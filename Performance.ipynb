{
 "cells": [
  {
   "cell_type": "code",
   "execution_count": 157,
   "id": "b3a075d2",
   "metadata": {},
   "outputs": [
    {
     "name": "stdout",
     "output_type": "stream",
     "text": [
      "6551700932705387022_!_101_!_news_culture_!_京城最值得你来场文化之旅的博物馆_!_保利集团,马未都,中国科学技术馆,博物馆,新中国\r\n",
      "6552368441838272771_!_101_!_news_culture_!_发酵床的垫料种类有哪些？哪种更好？_!_\r\n",
      "6552407965343678723_!_101_!_news_culture_!_上联：黄山黄河黄皮肤黄土高原。怎么对下联？_!_\r\n",
      "6552332417753940238_!_101_!_news_culture_!_林徽因什么理由拒绝了徐志摩而选择梁思成为终身伴侣？_!_\r\n",
      "6552475601595269390_!_101_!_news_culture_!_黄杨木是什么树？_!_\r\n",
      "6552387648126714125_!_101_!_news_culture_!_上联：草根登上星光道，怎么对下联？_!_\r\n",
      "6552271725814350087_!_101_!_news_culture_!_什么是超写实绘画？_!_\r\n",
      "6552452982015787268_!_101_!_news_culture_!_松涛听雨莺婉转，下联？_!_\r\n",
      "6552400379030536455_!_101_!_news_culture_!_上联：老子骑牛读书，下联怎么对？_!_\r\n",
      "6552339283632455939_!_101_!_news_culture_!_上联：山水醉人何须酒。如何对下联？_!_\r\n"
     ]
    }
   ],
   "source": [
    "# 数据：https://github.com/aceimnorstuvwxz/toutiao-text-classfication-dataset\n",
    "!head toutiao_cat_data.txt"
   ]
  },
  {
   "cell_type": "code",
   "execution_count": 158,
   "id": "b7b4bd9d",
   "metadata": {},
   "outputs": [],
   "source": [
    "import pandas as pd\n",
    "import jieba\n",
    "jieba.initialize()"
   ]
  },
  {
   "cell_type": "code",
   "execution_count": 139,
   "id": "89018feb",
   "metadata": {},
   "outputs": [],
   "source": [
    "def get_data(file: str = \"./toutiao_cat_data.txt\"):\n",
    "    df = pd.read_csv(\n",
    "        file, \n",
    "        sep=\"_!_\", \n",
    "        names=[\"id\", \"cate_code\", \"cate_name\", \"title\", \"keywords\"],\n",
    "        engine='python'\n",
    "    )\n",
    "    df = df[pd.notna(df[\"keywords\"])]\n",
    "    df = df.sample(10000)\n",
    "    df[\"length\"] = df[\"title\"].apply(lambda x: len(x))\n",
    "    return df"
   ]
  },
  {
   "cell_type": "markdown",
   "id": "4b734a38",
   "metadata": {},
   "source": [
    "## Pandas"
   ]
  },
  {
   "cell_type": "markdown",
   "id": "40db15b4",
   "metadata": {},
   "source": [
    "### 循环任务"
   ]
  },
  {
   "cell_type": "code",
   "execution_count": 140,
   "id": "5c9fcbef",
   "metadata": {},
   "outputs": [],
   "source": [
    "def tokenize_forloop(df):\n",
    "    data = []\n",
    "    for i in range(df.shape[0]):\n",
    "        tokens = jieba.lcut(df.iloc[i][\"title\"])\n",
    "        data.append(tokens)\n",
    "    df[\"tokens\"] = data\n",
    "    return df"
   ]
  },
  {
   "cell_type": "code",
   "execution_count": 141,
   "id": "218d5477",
   "metadata": {
    "scrolled": true
   },
   "outputs": [
    {
     "name": "stdout",
     "output_type": "stream",
     "text": [
      "CPU times: user 3.06 s, sys: 220 ms, total: 3.28 s\n",
      "Wall time: 3.48 s\n"
     ]
    }
   ],
   "source": [
    "df = get_data()\n",
    "%time new = tokenize_forloop(df)"
   ]
  },
  {
   "cell_type": "code",
   "execution_count": 142,
   "id": "30507ca0",
   "metadata": {},
   "outputs": [],
   "source": [
    "def tokenize_iterrows(df):\n",
    "    data = []\n",
    "    for i,v in df.iterrows():\n",
    "        tokens = jieba.lcut(v.title)\n",
    "        data.append(tokens)\n",
    "    df[\"tokens\"] = data\n",
    "    return df"
   ]
  },
  {
   "cell_type": "code",
   "execution_count": 143,
   "id": "874ca5d3",
   "metadata": {},
   "outputs": [
    {
     "name": "stdout",
     "output_type": "stream",
     "text": [
      "CPU times: user 2.76 s, sys: 45.3 ms, total: 2.8 s\n",
      "Wall time: 3.09 s\n"
     ]
    }
   ],
   "source": [
    "df = get_data()\n",
    "%time new = tokenize_iterrows(df)"
   ]
  },
  {
   "cell_type": "code",
   "execution_count": 144,
   "id": "bf7aa661",
   "metadata": {},
   "outputs": [],
   "source": [
    "def tokenize_itertuples(df):\n",
    "    data = []\n",
    "    for v in df.itertuples(index=False):\n",
    "        tokens = jieba.lcut(v.title)\n",
    "        data.append(tokens)\n",
    "    df[\"tokens\"] = data\n",
    "    return df"
   ]
  },
  {
   "cell_type": "code",
   "execution_count": 145,
   "id": "ab2a20c4",
   "metadata": {},
   "outputs": [
    {
     "name": "stdout",
     "output_type": "stream",
     "text": [
      "CPU times: user 1.26 s, sys: 13.8 ms, total: 1.28 s\n",
      "Wall time: 1.29 s\n"
     ]
    }
   ],
   "source": [
    "df = get_data()\n",
    "%time new = tokenize_itertuples(df)"
   ]
  },
  {
   "cell_type": "code",
   "execution_count": 146,
   "id": "0875fed9",
   "metadata": {},
   "outputs": [
    {
     "name": "stdout",
     "output_type": "stream",
     "text": [
      "CPU times: user 1.41 s, sys: 19.1 ms, total: 1.43 s\n",
      "Wall time: 1.6 s\n"
     ]
    }
   ],
   "source": [
    "df = get_data()\n",
    "%time df[\"tokens\"] = df[\"title\"].apply(lambda x: jieba.lcut(x))"
   ]
  },
  {
   "cell_type": "markdown",
   "id": "0d5eaf25",
   "metadata": {},
   "source": [
    "### 批量任务"
   ]
  },
  {
   "cell_type": "code",
   "execution_count": 100,
   "id": "70734514",
   "metadata": {},
   "outputs": [],
   "source": [
    "def reset_len(df, series, min_len, max_len):\n",
    "    df.loc[series < min_len, \"length\"] = min_len\n",
    "    df.loc[series > max_len, \"length\"] = max_len"
   ]
  },
  {
   "cell_type": "code",
   "execution_count": 147,
   "id": "c784ef5a",
   "metadata": {},
   "outputs": [
    {
     "name": "stdout",
     "output_type": "stream",
     "text": [
      "982 µs ± 97.7 µs per loop (mean ± std. dev. of 7 runs, 1000 loops each)\n"
     ]
    }
   ],
   "source": [
    "df = get_data()\n",
    "%timeit reset_len(df, df[\"length\"], 5, 20)"
   ]
  },
  {
   "cell_type": "code",
   "execution_count": 148,
   "id": "a1186e90",
   "metadata": {},
   "outputs": [
    {
     "name": "stdout",
     "output_type": "stream",
     "text": [
      "593 µs ± 38 µs per loop (mean ± std. dev. of 7 runs, 1000 loops each)\n"
     ]
    }
   ],
   "source": [
    "df = get_data()\n",
    "%timeit reset_len(df, df[\"length\"].values, 5, 20)"
   ]
  },
  {
   "cell_type": "code",
   "execution_count": 153,
   "id": "f4428977",
   "metadata": {},
   "outputs": [],
   "source": [
    "def deal_length(x, min_len, max_len):\n",
    "    if x < min_len:\n",
    "        return min_len\n",
    "    elif x > max_len:\n",
    "        return max_len\n",
    "    else:\n",
    "        return x"
   ]
  },
  {
   "cell_type": "code",
   "execution_count": 155,
   "id": "ce2b34fc",
   "metadata": {},
   "outputs": [
    {
     "name": "stdout",
     "output_type": "stream",
     "text": [
      "5.33 ms ± 533 µs per loop (mean ± std. dev. of 7 runs, 100 loops each)\n"
     ]
    }
   ],
   "source": [
    "df = get_data()\n",
    "%timeit df[\"length\"] = df[\"length\"].apply(lambda x: deal_length(x, 5, 20))"
   ]
  },
  {
   "cell_type": "markdown",
   "id": "34617bcc",
   "metadata": {},
   "source": [
    "## 加速数据任务"
   ]
  },
  {
   "cell_type": "code",
   "execution_count": 192,
   "id": "fdcdd8d1",
   "metadata": {},
   "outputs": [],
   "source": [
    "import numpy as np"
   ]
  },
  {
   "cell_type": "markdown",
   "id": "b5b41a2b",
   "metadata": {},
   "source": [
    "### numba"
   ]
  },
  {
   "cell_type": "code",
   "execution_count": 167,
   "id": "0f345c4b",
   "metadata": {},
   "outputs": [],
   "source": [
    "import numba"
   ]
  },
  {
   "cell_type": "code",
   "execution_count": 206,
   "id": "2a9e6683",
   "metadata": {},
   "outputs": [],
   "source": [
    "def integrate(a, b, N):\n",
    "    s = 0\n",
    "    dx = (b - a) / N\n",
    "    for i in range(N):\n",
    "        x = a + i * dx\n",
    "        s += x * (x-1)\n",
    "    return s * dx\n",
    "\n",
    "@numba.jit\n",
    "def integrate_numba(a, b, N):\n",
    "    s = 0\n",
    "    dx = (b - a) / N\n",
    "    for i in range(N):\n",
    "        x = a + i * dx\n",
    "        s += x * (x-1)\n",
    "    return s * dx"
   ]
  },
  {
   "cell_type": "code",
   "execution_count": 208,
   "id": "0a44a627",
   "metadata": {
    "scrolled": true
   },
   "outputs": [
    {
     "name": "stdout",
     "output_type": "stream",
     "text": [
      "957 ms ± 86.5 ms per loop (mean ± std. dev. of 7 runs, 1 loop each)\n"
     ]
    }
   ],
   "source": [
    "# with numba\n",
    "df = pd.DataFrame(np.random.randint(1,100,size=(100000, 3)),columns=['a', 'b', 'N'])\n",
    "%timeit df.apply(lambda x: integrate_numba(*x), axis=1)"
   ]
  },
  {
   "cell_type": "code",
   "execution_count": 207,
   "id": "54609a80",
   "metadata": {},
   "outputs": [
    {
     "name": "stdout",
     "output_type": "stream",
     "text": [
      "1.73 s ± 101 ms per loop (mean ± std. dev. of 7 runs, 1 loop each)\n"
     ]
    }
   ],
   "source": [
    "# without numba\n",
    "df = pd.DataFrame(np.random.randint(1,100,size=(100000, 3)),columns=['a', 'b', 'N'])\n",
    "%timeit df.apply(lambda x: integrate(*x), axis=1)"
   ]
  },
  {
   "cell_type": "code",
   "execution_count": 201,
   "id": "1a15631d",
   "metadata": {},
   "outputs": [],
   "source": [
    "def double_every_value_nonumba(x):\n",
    "    return x*2\n",
    "\n",
    "@numba.vectorize\n",
    "def double_every_value_withnumba_vec(x):\n",
    "    return x*2\n",
    "\n",
    "@numba.jit\n",
    "def double_every_value_withnumba(x):\n",
    "    return x*2"
   ]
  },
  {
   "cell_type": "code",
   "execution_count": 202,
   "id": "88205246",
   "metadata": {
    "scrolled": true
   },
   "outputs": [
    {
     "name": "stdout",
     "output_type": "stream",
     "text": [
      "33.4 ms ± 2.37 ms per loop (mean ± std. dev. of 7 runs, 10 loops each)\n"
     ]
    }
   ],
   "source": [
    "df = pd.DataFrame(np.random.randint(1,100,size=(100000, 3)),columns=['a', 'b', 'N'])\n",
    "%timeit df.a.apply(double_every_value_nonumba)"
   ]
  },
  {
   "cell_type": "code",
   "execution_count": 204,
   "id": "8d12ac02",
   "metadata": {
    "scrolled": true
   },
   "outputs": [
    {
     "name": "stdout",
     "output_type": "stream",
     "text": [
      "32.8 ms ± 851 µs per loop (mean ± std. dev. of 7 runs, 10 loops each)\n"
     ]
    }
   ],
   "source": [
    "df = pd.DataFrame(np.random.randint(1,100,size=(100000, 3)),columns=['a', 'b', 'N'])\n",
    "%timeit df.a.apply(double_every_value_withnumba)"
   ]
  },
  {
   "cell_type": "code",
   "execution_count": 203,
   "id": "30765c47",
   "metadata": {
    "scrolled": true
   },
   "outputs": [
    {
     "name": "stdout",
     "output_type": "stream",
     "text": [
      "270 µs ± 15 µs per loop (mean ± std. dev. of 7 runs, 1000 loops each)\n"
     ]
    }
   ],
   "source": [
    "df = pd.DataFrame(np.random.randint(1,100,size=(100000, 3)),columns=['a', 'b', 'N'])\n",
    "%timeit df.a * 2"
   ]
  },
  {
   "cell_type": "code",
   "execution_count": 209,
   "id": "3510e332",
   "metadata": {},
   "outputs": [
    {
     "name": "stdout",
     "output_type": "stream",
     "text": [
      "196 µs ± 13.7 µs per loop (mean ± std. dev. of 7 runs, 1000 loops each)\n"
     ]
    }
   ],
   "source": [
    "df = pd.DataFrame(np.random.randint(1,100,size=(100000, 3)),columns=['a', 'b', 'N'])\n",
    "%timeit df.a.values * 2"
   ]
  },
  {
   "cell_type": "code",
   "execution_count": 224,
   "id": "5893ae01",
   "metadata": {},
   "outputs": [
    {
     "name": "stdout",
     "output_type": "stream",
     "text": [
      "284 µs ± 53.1 µs per loop (mean ± std. dev. of 7 runs, 1000 loops each)\n"
     ]
    }
   ],
   "source": [
    "df = pd.DataFrame(np.random.randint(1,100,size=(100000, 3)),columns=['a', 'b', 'N'])\n",
    "%timeit double_every_value_withnumba_vec(df.a)"
   ]
  },
  {
   "cell_type": "code",
   "execution_count": 227,
   "id": "00b51843",
   "metadata": {},
   "outputs": [
    {
     "name": "stdout",
     "output_type": "stream",
     "text": [
      "82.3 µs ± 3.59 µs per loop (mean ± std. dev. of 7 runs, 10000 loops each)\n"
     ]
    }
   ],
   "source": [
    "df = pd.DataFrame(np.random.randint(1,100,size=(100000, 3)),columns=['a', 'b', 'N'])\n",
    "%timeit double_every_value_withnumba(df.a.values)"
   ]
  },
  {
   "cell_type": "code",
   "execution_count": 228,
   "id": "a0a38ab5",
   "metadata": {},
   "outputs": [
    {
     "name": "stdout",
     "output_type": "stream",
     "text": [
      "91.7 µs ± 7.41 µs per loop (mean ± std. dev. of 7 runs, 10000 loops each)\n"
     ]
    }
   ],
   "source": [
    "df = pd.DataFrame(np.random.randint(1,100,size=(100000, 3)),columns=['a', 'b', 'N'])\n",
    "%timeit double_every_value_withnumba_vec(df.a.values)"
   ]
  },
  {
   "cell_type": "markdown",
   "id": "3dac84be",
   "metadata": {},
   "source": [
    "### jax"
   ]
  },
  {
   "cell_type": "code",
   "execution_count": 217,
   "id": "d39afad4",
   "metadata": {},
   "outputs": [],
   "source": [
    "from jax import jit"
   ]
  },
  {
   "cell_type": "code",
   "execution_count": 221,
   "id": "e5be9669",
   "metadata": {},
   "outputs": [],
   "source": [
    "@jit\n",
    "def double_every_value_withjit(x):\n",
    "    return x*2"
   ]
  },
  {
   "cell_type": "code",
   "execution_count": 223,
   "id": "0133f38c",
   "metadata": {},
   "outputs": [
    {
     "name": "stdout",
     "output_type": "stream",
     "text": [
      "769 ms ± 63.1 ms per loop (mean ± std. dev. of 7 runs, 1 loop each)\n"
     ]
    }
   ],
   "source": [
    "df = pd.DataFrame(np.random.randint(1,100,size=(100000, 3)),columns=['a', 'b', 'N'])\n",
    "%timeit df.a.apply(double_every_value_withjit)"
   ]
  },
  {
   "cell_type": "code",
   "execution_count": 222,
   "id": "0523b866",
   "metadata": {
    "scrolled": true
   },
   "outputs": [
    {
     "name": "stdout",
     "output_type": "stream",
     "text": [
      "361 µs ± 30.9 µs per loop (mean ± std. dev. of 7 runs, 1000 loops each)\n"
     ]
    }
   ],
   "source": [
    "df = pd.DataFrame(np.random.randint(1,100,size=(100000, 3)),columns=['a', 'b', 'N'])\n",
    "%timeit double_every_value_withjit(df.a.values)"
   ]
  },
  {
   "cell_type": "markdown",
   "id": "14473f0c",
   "metadata": {},
   "source": [
    "### Cython"
   ]
  },
  {
   "cell_type": "code",
   "execution_count": 229,
   "id": "be05ecbb",
   "metadata": {},
   "outputs": [],
   "source": [
    "%load_ext Cython"
   ]
  },
  {
   "cell_type": "code",
   "execution_count": 231,
   "id": "4e220d16",
   "metadata": {},
   "outputs": [],
   "source": [
    "%%cython\n",
    "def integrate_cython(a, b, N):\n",
    "    s = 0\n",
    "    dx = (b - a) / N\n",
    "    for i in range(N):\n",
    "        x = a + i * dx\n",
    "        s += x * (x-1)\n",
    "    return s * dx"
   ]
  },
  {
   "cell_type": "code",
   "execution_count": 232,
   "id": "d367d94d",
   "metadata": {},
   "outputs": [
    {
     "name": "stdout",
     "output_type": "stream",
     "text": [
      "1.48 s ± 83.6 ms per loop (mean ± std. dev. of 7 runs, 1 loop each)\n"
     ]
    }
   ],
   "source": [
    "df = pd.DataFrame(np.random.randint(1,100,size=(100000, 3)),columns=['a', 'b', 'N'])\n",
    "%timeit df.apply(lambda x: integrate_cython(*x), axis=1)"
   ]
  },
  {
   "cell_type": "code",
   "execution_count": 233,
   "id": "fef03201",
   "metadata": {},
   "outputs": [],
   "source": [
    "%%cython\n",
    "cpdef double integrate_cython_add_type(double a, double b, int N):\n",
    "    cdef int i\n",
    "    cdef double s, dx, x\n",
    "    s = 0\n",
    "    dx = (b - a) / N\n",
    "    for i in range(N):\n",
    "        x = a + i * dx\n",
    "        s += x * (x-1)\n",
    "    return s * dx"
   ]
  },
  {
   "cell_type": "code",
   "execution_count": 234,
   "id": "1f1690ab",
   "metadata": {},
   "outputs": [
    {
     "name": "stdout",
     "output_type": "stream",
     "text": [
      "887 ms ± 76.3 ms per loop (mean ± std. dev. of 7 runs, 1 loop each)\n"
     ]
    }
   ],
   "source": [
    "df = pd.DataFrame(np.random.randint(1,100,size=(100000, 3)),columns=['a', 'b', 'N'])\n",
    "%timeit df.apply(lambda x: integrate_cython_add_type(*x), axis=1)"
   ]
  },
  {
   "cell_type": "code",
   "execution_count": 238,
   "id": "f8bfd159",
   "metadata": {},
   "outputs": [],
   "source": [
    "%%cython\n",
    "cimport numpy as np\n",
    "import numpy as np\n",
    "cpdef double integrate_cython_ndarray(double a, double b, int N):\n",
    "    cdef int i\n",
    "    cdef double s, dx, x\n",
    "    s = 0\n",
    "    dx = (b - a) / N\n",
    "    for i in range(N):\n",
    "        x = a + i * dx\n",
    "        s += x * (x-1)\n",
    "    return s * dx\n",
    "cpdef np.ndarray[double] apply_integrate_f(np.ndarray col_a, np.ndarray col_b, np.ndarray col_N):\n",
    "    cdef Py_ssize_t i, n = len(col_N)\n",
    "    cdef np.ndarray[double] res = np.empty(n)\n",
    "    for i in range(len(col_a)):\n",
    "        res[i] = integrate_cython_ndarray(col_a[i], col_b[i], col_N[i])\n",
    "    return res"
   ]
  },
  {
   "cell_type": "code",
   "execution_count": 245,
   "id": "49353d5b",
   "metadata": {},
   "outputs": [
    {
     "name": "stdout",
     "output_type": "stream",
     "text": [
      "21.7 ms ± 620 µs per loop (mean ± std. dev. of 7 runs, 10 loops each)\n"
     ]
    }
   ],
   "source": [
    "df = pd.DataFrame(np.random.randint(1,100,size=(100000, 3)),columns=['a', 'b', 'N'])\n",
    "%timeit apply_integrate_f(df['a'].values, df['b'].values, df['N'].values)"
   ]
  },
  {
   "cell_type": "markdown",
   "id": "6d627a6e",
   "metadata": {},
   "source": [
    "### eval"
   ]
  },
  {
   "cell_type": "code",
   "execution_count": 250,
   "id": "3826464a",
   "metadata": {},
   "outputs": [
    {
     "name": "stdout",
     "output_type": "stream",
     "text": [
      "1.81 ms ± 94.7 µs per loop (mean ± std. dev. of 7 runs, 1000 loops each)\n"
     ]
    }
   ],
   "source": [
    "df = pd.DataFrame(np.random.randint(1,100,size=(100000, 3)),columns=['a', 'b', 'N'])\n",
    "%timeit df.eval('c = a * 2', inplace=True)"
   ]
  },
  {
   "cell_type": "markdown",
   "id": "e1b29e03",
   "metadata": {},
   "source": [
    "### Multiple"
   ]
  },
  {
   "cell_type": "code",
   "execution_count": 271,
   "id": "8c19447c",
   "metadata": {},
   "outputs": [],
   "source": [
    "from pnlp import concurring"
   ]
  },
  {
   "cell_type": "code",
   "execution_count": 282,
   "id": "f9e2a0ae",
   "metadata": {},
   "outputs": [],
   "source": [
    "def tokenize(lst):\n",
    "    data = []\n",
    "    for s in lst:\n",
    "        tokens = jieba.lcut(s)\n",
    "        data.append(tokens)\n",
    "    return data\n",
    "\n",
    "@concurring(type=\"process_pool\", max_workers=4)\n",
    "def tokenize_mp(lst):\n",
    "    import jieba\n",
    "    jieba.initialize()\n",
    "    data = []\n",
    "    for s in lst:\n",
    "        tokens = jieba.lcut(s)\n",
    "        data.append(tokens)\n",
    "    return data\n",
    "\n",
    "@concurring(type=\"thread_pool\", max_workers=4)\n",
    "def tokenize_mt(lst):\n",
    "    data = []\n",
    "    for s in lst:\n",
    "        tokens = jieba.lcut(s)\n",
    "        data.append(tokens)\n",
    "    return data"
   ]
  },
  {
   "cell_type": "code",
   "execution_count": 274,
   "id": "c9ebb16e",
   "metadata": {},
   "outputs": [
    {
     "name": "stdout",
     "output_type": "stream",
     "text": [
      "1.56 s ± 142 ms per loop (mean ± std. dev. of 7 runs, 1 loop each)\n"
     ]
    }
   ],
   "source": [
    "df = get_data()\n",
    "%timeit res = tokenize(df[\"title\"])"
   ]
  },
  {
   "cell_type": "code",
   "execution_count": 283,
   "id": "84a273be",
   "metadata": {},
   "outputs": [
    {
     "name": "stdout",
     "output_type": "stream",
     "text": [
      "3.4 s ± 269 ms per loop (mean ± std. dev. of 7 runs, 1 loop each)\n"
     ]
    }
   ],
   "source": [
    "df = get_data()\n",
    "%timeit res = list(tokenize_mp(df[\"title\"]))"
   ]
  },
  {
   "cell_type": "code",
   "execution_count": 276,
   "id": "d5ad10bf",
   "metadata": {},
   "outputs": [
    {
     "name": "stdout",
     "output_type": "stream",
     "text": [
      "1.52 s ± 96.9 ms per loop (mean ± std. dev. of 7 runs, 1 loop each)\n"
     ]
    }
   ],
   "source": [
    "df = get_data()\n",
    "%timeit res = list(tokenize_mt(df[\"title\"]))"
   ]
  },
  {
   "cell_type": "code",
   "execution_count": 284,
   "id": "7da3f29a",
   "metadata": {
    "scrolled": true
   },
   "outputs": [
    {
     "name": "stdout",
     "output_type": "stream",
     "text": [
      "INFO: Pandarallel will run on 4 workers.\n",
      "INFO: Pandarallel will use standard multiprocessing data transfer (pipe) to transfer data between the main process and workers.\n"
     ]
    }
   ],
   "source": [
    "from pandarallel import pandarallel\n",
    "pandarallel.initialize()"
   ]
  },
  {
   "cell_type": "code",
   "execution_count": 289,
   "id": "acccde92",
   "metadata": {},
   "outputs": [
    {
     "name": "stdout",
     "output_type": "stream",
     "text": [
      "1.36 s ± 143 ms per loop (mean ± std. dev. of 7 runs, 1 loop each)\n"
     ]
    }
   ],
   "source": [
    "df = get_data()\n",
    "%timeit res = df[\"title\"].parallel_apply(lambda x: tokenize(x))"
   ]
  },
  {
   "cell_type": "code",
   "execution_count": 291,
   "id": "c9ef9d0e",
   "metadata": {},
   "outputs": [
    {
     "name": "stdout",
     "output_type": "stream",
     "text": [
      "1.6 s ± 76.4 ms per loop (mean ± std. dev. of 7 runs, 1 loop each)\n"
     ]
    }
   ],
   "source": [
    "df = get_data()\n",
    "%timeit res = df[\"title\"].apply(lambda x: tokenize(x))"
   ]
  },
  {
   "cell_type": "code",
   "execution_count": null,
   "id": "25e61e54",
   "metadata": {},
   "outputs": [],
   "source": []
  }
 ],
 "metadata": {
  "kernelspec": {
   "display_name": "Python 3",
   "language": "python",
   "name": "python3"
  },
  "language_info": {
   "codemirror_mode": {
    "name": "ipython",
    "version": 3
   },
   "file_extension": ".py",
   "mimetype": "text/x-python",
   "name": "python",
   "nbconvert_exporter": "python",
   "pygments_lexer": "ipython3",
   "version": "3.8.10"
  },
  "latex_envs": {
   "LaTeX_envs_menu_present": true,
   "autoclose": false,
   "autocomplete": true,
   "bibliofile": "biblio.bib",
   "cite_by": "apalike",
   "current_citInitial": 1,
   "eqLabelWithNumbers": true,
   "eqNumInitial": 1,
   "hotkeys": {
    "equation": "Ctrl-E",
    "itemize": "Ctrl-I"
   },
   "labels_anchors": false,
   "latex_user_defs": false,
   "report_style_numbering": false,
   "user_envs_cfg": false
  },
  "toc": {
   "base_numbering": 1,
   "nav_menu": {},
   "number_sections": true,
   "sideBar": true,
   "skip_h1_title": false,
   "title_cell": "Table of Contents",
   "title_sidebar": "Contents",
   "toc_cell": false,
   "toc_position": {},
   "toc_section_display": true,
   "toc_window_display": false
  }
 },
 "nbformat": 4,
 "nbformat_minor": 5
}
