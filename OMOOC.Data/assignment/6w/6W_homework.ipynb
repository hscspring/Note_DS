{
 "cells": [
  {
   "cell_type": "markdown",
   "metadata": {},
   "source": [
    "给定一个函数 f(x) = x^2 + 3*x - 10 , 完成以下题目：\n",
    "\n",
    "理解方程求根中的二分法(Bisection)，并使用基本的numpy库而非scipy库，来实现算法。  \n",
    "使用上述算法来得到函数f(x)的根。  \n",
    "理解梯度下降法(Gradient descent)，并使用基本的numpy库而非scipy库，来实现算法。  \n",
    "使用上述算法来得到函数f(x)的最小值。  "
   ]
  },
  {
   "cell_type": "code",
   "execution_count": 1,
   "metadata": {
    "collapsed": true
   },
   "outputs": [],
   "source": [
    "import numpy as np\n",
    "import matplotlib.pyplot as plt\n",
    "%matplotlib inline"
   ]
  },
  {
   "cell_type": "markdown",
   "metadata": {},
   "source": [
    "# 函数初探"
   ]
  },
  {
   "cell_type": "code",
   "execution_count": 2,
   "metadata": {
    "collapsed": true
   },
   "outputs": [],
   "source": [
    "def f(x):\n",
    "    return x**2 + 3*x - 10"
   ]
  },
  {
   "cell_type": "code",
   "execution_count": 3,
   "metadata": {
    "collapsed": true
   },
   "outputs": [],
   "source": [
    "x=np.linspace(-10,10,100)"
   ]
  },
  {
   "cell_type": "code",
   "execution_count": 23,
   "metadata": {
    "scrolled": true
   },
   "outputs": [
    {
     "data": {
      "image/png": "[encoded data removed]",
      "text/plain": [
       "<matplotlib.figure.Figure at 0x7ff066730850>"
      ]
     },
     "metadata": {},
     "output_type": "display_data"
    }
   ],
   "source": [
    "fig,ax = plt.subplots(figsize=(12,4))\n",
    "\n",
    "ax.plot(x,f(x))\n",
    "ax.set_xticks(np.linspace(-10,10,21))\n",
    "ax.axhline(0, color='k');"
   ]
  },
  {
   "cell_type": "markdown",
   "metadata": {},
   "source": [
    "# Bisection"
   ]
  },
  {
   "cell_type": "markdown",
   "metadata": {},
   "source": [
    "## 1.什么是二分法\n",
    "\n",
    "对于区间[a,b]上连续不断且 f(a)\\*f(b)<0 的函数y=f(x)，通不过不断地把函数f(x)的零点所在的区间一分为二，使区间的两个端点逐步逼近零点，进而得到零点近似值的方法叫二分法。  \n",
    "我们可以发现二分法的几个特点：  \n",
    "（1）f(x)在区间内连续不断;  \n",
    "（2）零点在区间之间;  \n",
    "（3）逐步迭代逼近。"
   ]
  },
  {
   "cell_type": "markdown",
   "metadata": {},
   "source": [
    "## 2.二分法的步骤\n",
    "\n",
    "2.1 确定区间[a,b]，验证f(a)\\*f(b)<0，给定精确度ε;  \n",
    "2.2 求区间(a,b)的中点c;  \n",
    "2.3 计算f(c)：\n",
    "（1）若f(c)=0,则c就是函数的零点；  \n",
    "（2）若f(a)\\*f(c)<0，则令b=c（此时，零点在（a,c）之间）;  \n",
    "（3）若f(b)\\*f(c)<0，则令a=c（此时，零点在（c,b）之间）;  \n",
    "2.4 判断是否达到精确度ε;若|a-b|<ε，则得到零点近似值a（或b）;  \n",
    "否则重复2.3的（2）和（3）。"
   ]
  },
  {
   "cell_type": "markdown",
   "metadata": {},
   "source": [
    "## 3.二分法的实现"
   ]
  },
  {
   "cell_type": "markdown",
   "metadata": {},
   "source": [
    "### 3.1 标准Python实现"
   ]
  },
  {
   "cell_type": "code",
   "execution_count": 82,
   "metadata": {},
   "outputs": [],
   "source": [
    "# 标准python\n",
    "\n",
    "def bisection1(f,a,b):\n",
    "    eps = 1e-5\n",
    "    c = (a+b)/2.0\n",
    "    \n",
    "    if f(a)*f(b)*f(c) == 0:\n",
    "        if f(a) == 0:\n",
    "            x0 = a\n",
    "        elif f(b) == 0:\n",
    "            x0 = b\n",
    "        else:\n",
    "            x0 =c\n",
    "    else:\n",
    "        while f(a)*f(b)<0:\n",
    "            if f(a)*f(c)<0:\n",
    "                b = c\n",
    "            elif f(b)*f(c)<0:\n",
    "                a = c\n",
    "            \n",
    "            elif abs(a-b) < eps:\n",
    "                x0 = a\n",
    "    return x0        "
   ]
  },
  {
   "cell_type": "code",
   "execution_count": 83,
   "metadata": {},
   "outputs": [
    {
     "data": {
      "text/plain": [
       "-5.0"
      ]
     },
     "execution_count": 83,
     "metadata": {},
     "output_type": "execute_result"
    }
   ],
   "source": [
    "bisection1(f,-6,-4)"
   ]
  },
  {
   "cell_type": "code",
   "execution_count": 84,
   "metadata": {},
   "outputs": [
    {
     "data": {
      "text/plain": [
       "2.0"
      ]
     },
     "execution_count": 84,
     "metadata": {},
     "output_type": "execute_result"
    }
   ],
   "source": [
    "bisection1(f,1,3)"
   ]
  },
  {
   "cell_type": "code",
   "execution_count": 95,
   "metadata": {
    "collapsed": true
   },
   "outputs": [],
   "source": [
    "# 标准python2\n",
    "\n",
    "def bisection2(a,b,eps):\n",
    "    c = (a+b)/2.0\n",
    "    while (b-a)/2.0 >eps:\n",
    "        if f(c) == 0:\n",
    "            return c\n",
    "        elif f(a)*f(c) < 0:\n",
    "            b = c\n",
    "        else:\n",
    "            a = c\n",
    "        c = (a+b)/2.0\n",
    "        \n",
    "    return c"
   ]
  },
  {
   "cell_type": "code",
   "execution_count": 105,
   "metadata": {},
   "outputs": [
    {
     "data": {
      "text/plain": [
       "-5.0"
      ]
     },
     "execution_count": 105,
     "metadata": {},
     "output_type": "execute_result"
    }
   ],
   "source": [
    "bisection2(-6,-4,1e-5)"
   ]
  },
  {
   "cell_type": "code",
   "execution_count": 97,
   "metadata": {},
   "outputs": [
    {
     "data": {
      "text/plain": [
       "2.0"
      ]
     },
     "execution_count": 97,
     "metadata": {},
     "output_type": "execute_result"
    }
   ],
   "source": [
    "bisection2(1,3,1e-5)"
   ]
  },
  {
   "cell_type": "code",
   "execution_count": 88,
   "metadata": {},
   "outputs": [
    {
     "data": {
      "text/plain": [
       "0.0"
      ]
     },
     "execution_count": 88,
     "metadata": {},
     "output_type": "execute_result"
    }
   ],
   "source": [
    "f(_)"
   ]
  },
  {
   "cell_type": "code",
   "execution_count": 89,
   "metadata": {},
   "outputs": [
    {
     "name": "stdout",
     "output_type": "stream",
     "text": [
      "The slowest run took 16.90 times longer than the fastest. This could mean that an intermediate result is being cached.\n",
      "1000000 loops, best of 3: 1.24 µs per loop\n"
     ]
    }
   ],
   "source": [
    "%%timeit\n",
    "bisection1(f,-6,-4)"
   ]
  },
  {
   "cell_type": "code",
   "execution_count": 90,
   "metadata": {},
   "outputs": [
    {
     "name": "stdout",
     "output_type": "stream",
     "text": [
      "The slowest run took 31.18 times longer than the fastest. This could mean that an intermediate result is being cached.\n",
      "1000000 loops, best of 3: 550 ns per loop\n"
     ]
    }
   ],
   "source": [
    "%%timeit\n",
    "bisection2(-6,-4,1e-5)\n",
    "\n",
    "# 算法2更优"
   ]
  },
  {
   "cell_type": "markdown",
   "metadata": {},
   "source": [
    "### 3.2 Numpy实现"
   ]
  },
  {
   "cell_type": "code",
   "execution_count": 490,
   "metadata": {
    "collapsed": true
   },
   "outputs": [],
   "source": [
    "def bisectionNumpy1(a,b,eps):\n",
    "    c = (a+b)/2.0\n",
    "    while (b-a)/2.0 >eps:\n",
    "        if f(c) == 0:\n",
    "            return c\n",
    "        else:\n",
    "            b = np.where(f(a)*f(c)<0,c,b)\n",
    "            a = np.where(f(b)*f(c)<0,c,a)\n",
    "#        c = (a+b)/2.0\n",
    "#    return c"
   ]
  },
  {
   "cell_type": "code",
   "execution_count": 493,
   "metadata": {},
   "outputs": [
    {
     "data": {
      "text/plain": [
       "-5.0"
      ]
     },
     "execution_count": 493,
     "metadata": {},
     "output_type": "execute_result"
    }
   ],
   "source": [
    "bisectionNumpy1(-6,-4,1e-5)"
   ]
  },
  {
   "cell_type": "code",
   "execution_count": 494,
   "metadata": {},
   "outputs": [
    {
     "data": {
      "text/plain": [
       "2.0"
      ]
     },
     "execution_count": 494,
     "metadata": {},
     "output_type": "execute_result"
    }
   ],
   "source": [
    "bisectionNumpy1(1,3,1e-5)"
   ]
  },
  {
   "cell_type": "code",
   "execution_count": 495,
   "metadata": {},
   "outputs": [
    {
     "name": "stdout",
     "output_type": "stream",
     "text": [
      "The slowest run took 12.03 times longer than the fastest. This could mean that an intermediate result is being cached.\n",
      "1000000 loops, best of 3: 575 ns per loop\n"
     ]
    }
   ],
   "source": [
    "%%timeit\n",
    "bisectionNumpy1(-6,-4,1e-5)\n",
    "\n",
    "# 速度略快于标准python"
   ]
  },
  {
   "cell_type": "code",
   "execution_count": 264,
   "metadata": {
    "collapsed": true
   },
   "outputs": [],
   "source": [
    "def bisectionNumpy2(a,b,eps):\n",
    "    c = (a+b)/2.0\n",
    "    while ((b-a)/2.0 >eps)&(f(c) != 0):\n",
    "        b = np.where(f(a)*f(c)<0,c,b)\n",
    "        a = np.where(f(b)*f(c)<0,c,a)\n",
    "    return c"
   ]
  },
  {
   "cell_type": "code",
   "execution_count": 120,
   "metadata": {},
   "outputs": [
    {
     "data": {
      "text/plain": [
       "-5.0"
      ]
     },
     "execution_count": 120,
     "metadata": {},
     "output_type": "execute_result"
    }
   ],
   "source": [
    "bisectionNumpy2(-6,-4,1e-5)"
   ]
  },
  {
   "cell_type": "code",
   "execution_count": 119,
   "metadata": {},
   "outputs": [
    {
     "data": {
      "text/plain": [
       "2.0"
      ]
     },
     "execution_count": 119,
     "metadata": {},
     "output_type": "execute_result"
    }
   ],
   "source": [
    "bisectionNumpy2(1,3,1e-5)"
   ]
  },
  {
   "cell_type": "code",
   "execution_count": 265,
   "metadata": {},
   "outputs": [
    {
     "name": "stdout",
     "output_type": "stream",
     "text": [
      "The slowest run took 19.85 times longer than the fastest. This could mean that an intermediate result is being cached.\n",
      "1000000 loops, best of 3: 565 ns per loop\n"
     ]
    }
   ],
   "source": [
    "%%timeit\n",
    "bisectionNumpy2(-6,-4,1e-5)"
   ]
  },
  {
   "cell_type": "markdown",
   "metadata": {},
   "source": [
    "### 3.3 矩阵实现"
   ]
  },
  {
   "cell_type": "code",
   "execution_count": 486,
   "metadata": {},
   "outputs": [],
   "source": [
    "def bisectionArray(a,b):\n",
    "    eps = 3\n",
    "    n = 10**(eps*(abs(b-a)))\n",
    "    #n = 1000\n",
    "    x = np.linspace(a,b,n)\n",
    "    X = np.ones(n*3).reshape(n,3)\n",
    "    X[:,0] = (x*x)\n",
    "    X[:,1] = x\n",
    "    X[:,2] = np.ones((n,1))[:,0]\n",
    "    Theta = np.array([1,3,-10])\n",
    "    \n",
    "    y = X*Theta\n",
    "    ysum = y.sum(axis=1)\n",
    "    return X[np.where((ysum<10**-eps)&(ysum>n**-1))][0,1]\n",
    "    #X[np.where((ysum<0.1)&(ysum>0.00000001))][0,1]\n",
    "    \n",
    "# 这个方法有点傻，有点类似梯度法"
   ]
  },
  {
   "cell_type": "code",
   "execution_count": 476,
   "metadata": {},
   "outputs": [
    {
     "data": {
      "text/plain": [
       "2.0000010000010002"
      ]
     },
     "execution_count": 476,
     "metadata": {},
     "output_type": "execute_result"
    }
   ],
   "source": [
    "bisectionArray(1,3)"
   ]
  },
  {
   "cell_type": "code",
   "execution_count": 477,
   "metadata": {},
   "outputs": [
    {
     "data": {
      "text/plain": [
       "-5.0001410001410003"
      ]
     },
     "execution_count": 477,
     "metadata": {},
     "output_type": "execute_result"
    }
   ],
   "source": [
    "bisectionArray(-6,-4)"
   ]
  },
  {
   "cell_type": "code",
   "execution_count": 489,
   "metadata": {},
   "outputs": [
    {
     "name": "stdout",
     "output_type": "stream",
     "text": [
      "10 loops, best of 3: 71.8 ms per loop\n"
     ]
    }
   ],
   "source": [
    "%%timeit\n",
    "bisectionArray(-6,-4)\n",
    "# 实际上没太多意义"
   ]
  },
  {
   "cell_type": "markdown",
   "metadata": {},
   "source": [
    "### 3.4 Scipy实现"
   ]
  },
  {
   "cell_type": "code",
   "execution_count": 479,
   "metadata": {
    "collapsed": true
   },
   "outputs": [],
   "source": [
    "import scipy.optimize as opt"
   ]
  },
  {
   "cell_type": "code",
   "execution_count": 271,
   "metadata": {},
   "outputs": [
    {
     "data": {
      "text/plain": [
       "(-5.0, 2.0)"
      ]
     },
     "execution_count": 271,
     "metadata": {},
     "output_type": "execute_result"
    }
   ],
   "source": [
    "opt.bisect(f,-6,-4),opt.bisect(f,1,3)"
   ]
  },
  {
   "cell_type": "code",
   "execution_count": 485,
   "metadata": {},
   "outputs": [
    {
     "data": {
      "text/plain": [
       "(-5.0000000000000036, 2.0000000000000036)"
      ]
     },
     "execution_count": 485,
     "metadata": {},
     "output_type": "execute_result"
    }
   ],
   "source": [
    "opt.brentq(f,-6,-4),opt.brentq(f,1,3)"
   ]
  },
  {
   "cell_type": "code",
   "execution_count": 268,
   "metadata": {},
   "outputs": [
    {
     "name": "stdout",
     "output_type": "stream",
     "text": [
      "The slowest run took 11.58 times longer than the fastest. This could mean that an intermediate result is being cached.\n",
      "100000 loops, best of 3: 1.81 µs per loop\n"
     ]
    }
   ],
   "source": [
    "%%timeit\n",
    "opt.bisect(f,-6,-4)"
   ]
  },
  {
   "cell_type": "code",
   "execution_count": 269,
   "metadata": {},
   "outputs": [
    {
     "name": "stdout",
     "output_type": "stream",
     "text": [
      "The slowest run took 9.77 times longer than the fastest. This could mean that an intermediate result is being cached.\n",
      "100000 loops, best of 3: 3.37 µs per loop\n"
     ]
    }
   ],
   "source": [
    "%%timeit\n",
    "opt.brentq(f,-6,-4)"
   ]
  },
  {
   "cell_type": "markdown",
   "metadata": {},
   "source": [
    "## 4.总结\n",
    "\n",
    "1. 这篇关于[二分法](http://www.csie.ntnu.edu.tw/~u91029/RootFinding.html)的文章还不错。  \n",
    "2. 在[这个](http://www.zhihu.com/question/24789359)问题（在哪些方面，Numpy的速度反而比不上原始Python？）中，提到list和numpy速度快慢的问题。  \n",
    "3. 速度上来看，Numpy和Python方法比Scipy库要快。具体如下：  \n",
    "   * Python:1000000 loops, best of 3: 550 ns per loop  \n",
    "   * Numpy:1000000 loops, best of 3: 565 ns per loop  \n",
    "   * opt.bisect:100000 loops, best of 3: 1.81 µs per loop  \n",
    "   * opt.brentq:100000 loops, best of 3: 3.37 µs per loop\n",
    "4. 二分法是一种求解问题的思路和方法，也可以用来求极值。"
   ]
  },
  {
   "cell_type": "markdown",
   "metadata": {},
   "source": [
    "# Gradient descent"
   ]
  },
  {
   "cell_type": "markdown",
   "metadata": {
    "collapsed": true
   },
   "source": [
    "## 1.什么是梯度下降法\n",
    "\n",
    "梯度下降法是一种常用的最优化方法，实现简单。一般情况下，其解不一定是全局最优解，速度也不是最快的。  \n",
    "优化思想：选取适当的初值，沿当前位置负梯度作为搜索方向，不断迭代，更新x的值，进行目标函数的极小化，直到收敛。  \n",
    "负梯度方向是使函数值下降最快的方向，越接近目标值，步长越小，前进越慢。\n",
    "\n",
    "**缺点**  \n",
    "（1）靠近极小值时收敛速度减慢。  \n",
    "（2）直线搜索时可能会产生一些问题。  \n",
    "（3）可能会“之”字形下降。"
   ]
  },
  {
   "cell_type": "markdown",
   "metadata": {},
   "source": [
    "## 2.梯度下降法步骤及算法  "
   ]
  },
  {
   "cell_type": "markdown",
   "metadata": {},
   "source": [
    "输入：目标函数$f(x)$，梯度函数$g(x)=\\nabla f(x)$，计算精度$\\epsilon$；  "
   ]
  },
  {
   "cell_type": "markdown",
   "metadata": {},
   "source": [
    "输出：$f(x)$的极小值点$x^*$。  "
   ]
  },
  {
   "cell_type": "markdown",
   "metadata": {},
   "source": [
    "（1）取初始值$x^0 \\in R^n$，置$k=0$  　　# k为迭代次数"
   ]
  },
  {
   "cell_type": "markdown",
   "metadata": {},
   "source": [
    "（2）计算$f(x^k)$"
   ]
  },
  {
   "cell_type": "markdown",
   "metadata": {},
   "source": [
    "（3）计算梯度$g_k = g(x^k)$，当$\\mid\\mid g_k \\mid\\mid < \\epsilon$时，停止迭代，令$x^* = x^k$；否则，令$p_k = -g(x^k)$，求$\\lambda_k$，使"
   ]
  },
  {
   "cell_type": "markdown",
   "metadata": {},
   "source": [
    "$ f(x^k+\\lambda_kp_k) = min_{\\lambda\\geq0}(f(x^k+\\lambda_kp_k)$ "
   ]
  },
  {
   "cell_type": "markdown",
   "metadata": {},
   "source": [
    "（4）置$x^{(k+1)}=x^k+\\lambda_kp_k$，计算$f(x^{k+1})$，当："
   ]
  },
  {
   "cell_type": "markdown",
   "metadata": {},
   "source": [
    "$\\mid\\mid f(x^{k+1})-f(x^k)\\mid\\mid<\\epsilon$或$\\mid\\mid x^{k+1}-x^k\\mid\\mid<\\epsilon$时，停止迭代，令$x^*=x^{k+1}$"
   ]
  },
  {
   "cell_type": "markdown",
   "metadata": {},
   "source": [
    "（5）否则，置$k=k+1$，转（3）"
   ]
  },
  {
   "cell_type": "markdown",
   "metadata": {},
   "source": [
    "##  3.线性拟合中的应用"
   ]
  },
  {
   "cell_type": "markdown",
   "metadata": {},
   "source": [
    "对于线性回归，假设我们的估计方程为：$h_\\theta = \\theta_0 + \\theta_1x$，代价函数为："
   ]
  },
  {
   "cell_type": "markdown",
   "metadata": {},
   "source": [
    "$J(\\theta_0,\\theta_1) = \\frac1{2m} \\sum_{i=1}^m(h_\\theta(x^{(i)})-y^{(i)})^2$"
   ]
  },
  {
   "cell_type": "markdown",
   "metadata": {},
   "source": [
    "### 3.1 批量梯度下降（BGD）"
   ]
  },
  {
   "cell_type": "markdown",
   "metadata": {},
   "source": [
    "批量梯度算法公式为：\n",
    "\n",
    "repeat until convergence  {  \n",
    "  $\\theta_j: = \\theta_j - \\alpha \\frac{\\partial}{\\partial \\theta_j}J(\\theta_0,\\theta_1) \\quad\\quad \\text{for j = 0 and j=1，α表示学习率} $  \n",
    "}"
   ]
  },
  {
   "cell_type": "markdown",
   "metadata": {},
   "source": [
    "（1）将$J(\\theta_0,\\theta_1)$对$\\theta$求导，得到每个$\\theta$对应的梯度："
   ]
  },
  {
   "cell_type": "markdown",
   "metadata": {},
   "source": [
    "$\\frac{\\partial J(\\theta)}{\\partial \\theta_1} = -\\frac1m \\sum_{i=1}^m((h_\\theta(x^{(i)})-y^{(i)})x_j^i)$"
   ]
  },
  {
   "cell_type": "markdown",
   "metadata": {},
   "source": [
    "$\\frac{\\partial J(\\theta)}{\\partial \\theta_0} = -\\frac1m \\sum_{i=1}^m(h_\\theta(x^{(i)})-y^{(i)})$"
   ]
  },
  {
   "cell_type": "markdown",
   "metadata": {},
   "source": [
    "（2）算法变为："
   ]
  },
  {
   "cell_type": "markdown",
   "metadata": {},
   "source": [
    "Repeat {  \n",
    "$\\theta_0: = \\theta_0-\\alpha \\frac1m \\sum_{i=1}^m (h_\\theta(x^{(i)}-y^{(i)})$   \n",
    "$\\theta_1: = \\theta_1-\\alpha \\frac1m \\sum_{i=1}^m ((h_\\theta(x^{(i)})-y^{(i)})·x^{(i)})$   \n",
    "}"
   ]
  },
  {
   "cell_type": "markdown",
   "metadata": {},
   "source": [
    "（3）我们看出这样将会得到一个全局最优解，但是每迭代一步，都要计算到所有的训练集数据，如果训练数据集非常大（m很大），迭代速度会特别慢。"
   ]
  },
  {
   "cell_type": "markdown",
   "metadata": {},
   "source": [
    "### 3.1 随机梯度下降（RGD）"
   ]
  },
  {
   "cell_type": "markdown",
   "metadata": {},
   "source": [
    "算法如下：\n",
    "Repeat {  \n",
    "$\\theta_j: = \\theta_j-\\alpha ((h_\\theta(x^{(i)})-y^{(i)})·x_j^{(i)})$   \n",
    "}"
   ]
  },
  {
   "cell_type": "markdown",
   "metadata": {},
   "source": [
    "随机梯度下降每次只用一个样本，虽然不是每次都向着全局最优解迭代，但整体方向是对的。  \n",
    "以损失精确度提高优化效率，适用于大规模训练集。"
   ]
  },
  {
   "cell_type": "markdown",
   "metadata": {},
   "source": [
    "## 4.算法实现"
   ]
  },
  {
   "cell_type": "markdown",
   "metadata": {},
   "source": [
    "### 4.1 标准python实现"
   ]
  },
  {
   "cell_type": "code",
   "execution_count": 7,
   "metadata": {
    "collapsed": true
   },
   "outputs": [],
   "source": [
    "def g(x):\n",
    "    return x*2 + 3"
   ]
  },
  {
   "cell_type": "code",
   "execution_count": 177,
   "metadata": {},
   "outputs": [],
   "source": [
    "# 标准python\n",
    "def gradient(x0,eps):\n",
    "    step = 0.01\n",
    "    x = x0\n",
    "    f_change = abs(f(x0))  \n",
    "    while (f_change > eps) | (abs(step*g(x)) > eps):\n",
    "        fx0 = f(x)\n",
    "        x = x - step*g(x)\n",
    "        f_change = abs(fx0 - f(x))\n",
    "    return f(x)"
   ]
  },
  {
   "cell_type": "code",
   "execution_count": 178,
   "metadata": {},
   "outputs": [
    {
     "data": {
      "text/plain": [
       "-12.249999999975618"
      ]
     },
     "execution_count": 178,
     "metadata": {},
     "output_type": "execute_result"
    }
   ],
   "source": [
    "gradient(-100,0.0000001)"
   ]
  },
  {
   "cell_type": "code",
   "execution_count": 179,
   "metadata": {},
   "outputs": [
    {
     "data": {
      "text/plain": [
       "-12.249999999975135"
      ]
     },
     "execution_count": 179,
     "metadata": {},
     "output_type": "execute_result"
    }
   ],
   "source": [
    "gradient(100,0.0000001)"
   ]
  },
  {
   "cell_type": "code",
   "execution_count": 180,
   "metadata": {},
   "outputs": [
    {
     "data": {
      "text/plain": [
       "-12.249999999975746"
      ]
     },
     "execution_count": 180,
     "metadata": {},
     "output_type": "execute_result"
    }
   ],
   "source": [
    "gradient(0,0.0000001)"
   ]
  },
  {
   "cell_type": "code",
   "execution_count": 181,
   "metadata": {
    "collapsed": true
   },
   "outputs": [],
   "source": [
    "# 标准python2\n",
    "def gradient2(x0,step,eps):\n",
    "    x = x0\n",
    "    f_change = abs(f(x0))\n",
    "    if abs(g(x)) < eps:\n",
    "        return f(x)\n",
    "    else:\n",
    "        while (f_change > eps) | (abs(step*g(x)) > eps):\n",
    "            fx0 = f(x)\n",
    "            x = x - step*g(x)\n",
    "            f_change = abs(fx0 - f(x))\n",
    "        return f(x)"
   ]
  },
  {
   "cell_type": "code",
   "execution_count": 182,
   "metadata": {},
   "outputs": [
    {
     "data": {
      "text/plain": [
       "-12.249999999999996"
      ]
     },
     "execution_count": 182,
     "metadata": {},
     "output_type": "execute_result"
    }
   ],
   "source": [
    "gradient2(100,0.01,1e-9)"
   ]
  },
  {
   "cell_type": "code",
   "execution_count": 183,
   "metadata": {},
   "outputs": [
    {
     "data": {
      "text/plain": [
       "-12.249999999999998"
      ]
     },
     "execution_count": 183,
     "metadata": {},
     "output_type": "execute_result"
    }
   ],
   "source": [
    "gradient2(-100,0.01,1e-9)"
   ]
  },
  {
   "cell_type": "code",
   "execution_count": 184,
   "metadata": {},
   "outputs": [
    {
     "data": {
      "text/plain": [
       "-12.249999999999998"
      ]
     },
     "execution_count": 184,
     "metadata": {},
     "output_type": "execute_result"
    }
   ],
   "source": [
    "gradient2(0,0.01,1e-9)"
   ]
  },
  {
   "cell_type": "code",
   "execution_count": 185,
   "metadata": {},
   "outputs": [
    {
     "name": "stdout",
     "output_type": "stream",
     "text": [
      "1000 loops, best of 3: 1.16 ms per loop\n"
     ]
    }
   ],
   "source": [
    "%timeit gradient(100,1e-9)"
   ]
  },
  {
   "cell_type": "code",
   "execution_count": 186,
   "metadata": {
    "scrolled": false
   },
   "outputs": [
    {
     "name": "stdout",
     "output_type": "stream",
     "text": [
      "1000 loops, best of 3: 1.14 ms per loop\n"
     ]
    }
   ],
   "source": [
    "%timeit gradient2(100,0.01,1e-9)"
   ]
  },
  {
   "cell_type": "markdown",
   "metadata": {},
   "source": [
    "### 4.2 Numpy实现"
   ]
  },
  {
   "cell_type": "code",
   "execution_count": 257,
   "metadata": {},
   "outputs": [],
   "source": [
    "# Numpy实现\n",
    "def gradientNumpy(x0,step,eps):\n",
    "    x = x0\n",
    "    f_change = abs(f(x0))\n",
    "    while (abs(step*g(x)) > eps):\n",
    "        x = x - step*g(x)\n",
    "        fx0 = f(x)\n",
    "        f_change = np.where(f_change > eps, abs(fx0 - f(x)), f_change)\n",
    "    return f(x)"
   ]
  },
  {
   "cell_type": "code",
   "execution_count": 258,
   "metadata": {},
   "outputs": [
    {
     "data": {
      "text/plain": [
       "-12.249999999999996"
      ]
     },
     "execution_count": 258,
     "metadata": {},
     "output_type": "execute_result"
    }
   ],
   "source": [
    "gradientNumpy(100,0.01,1e-9)"
   ]
  },
  {
   "cell_type": "code",
   "execution_count": 259,
   "metadata": {},
   "outputs": [
    {
     "data": {
      "text/plain": [
       "-12.249999999999998"
      ]
     },
     "execution_count": 259,
     "metadata": {},
     "output_type": "execute_result"
    }
   ],
   "source": [
    "gradientNumpy(0,0.01,1e-9)"
   ]
  },
  {
   "cell_type": "code",
   "execution_count": 260,
   "metadata": {},
   "outputs": [
    {
     "name": "stdout",
     "output_type": "stream",
     "text": [
      "100 loops, best of 3: 3.51 ms per loop\n"
     ]
    }
   ],
   "source": [
    "% timeit gradientNumpy(100,0.01,1e-9)"
   ]
  },
  {
   "cell_type": "markdown",
   "metadata": {},
   "source": [
    "### 4.3 Scipy库实现"
   ]
  },
  {
   "cell_type": "code",
   "execution_count": 68,
   "metadata": {
    "collapsed": true
   },
   "outputs": [],
   "source": [
    "import scipy.optimize as opt\n",
    "from scipy.optimize import basinhopping"
   ]
  },
  {
   "cell_type": "code",
   "execution_count": 69,
   "metadata": {
    "scrolled": true
   },
   "outputs": [
    {
     "data": {
      "text/plain": [
       "      fun: -12.249999999999996\n",
       " hess_inv: array([[ 0.50000001]])\n",
       "      jac: array([ -1.19209290e-07])\n",
       "  message: 'Optimization terminated successfully.'\n",
       "     nfev: 12\n",
       "      nit: 2\n",
       "     njev: 4\n",
       "   status: 0\n",
       "  success: True\n",
       "        x: array([-1.50000006])"
      ]
     },
     "execution_count": 69,
     "metadata": {},
     "output_type": "execute_result"
    }
   ],
   "source": [
    "opt.minimize(f,2)"
   ]
  },
  {
   "cell_type": "code",
   "execution_count": 74,
   "metadata": {},
   "outputs": [
    {
     "data": {
      "text/plain": [
       "                        fun: -12.25\n",
       " lowest_optimization_result:       fun: -12.25\n",
       " hess_inv: array([[1]])\n",
       "      jac: array([  1.19209290e-07])\n",
       "  message: 'Optimization terminated successfully.'\n",
       "     nfev: 9\n",
       "      nit: 1\n",
       "     njev: 3\n",
       "   status: 0\n",
       "  success: True\n",
       "        x: array([-1.49999998])\n",
       "                    message: ['requested number of basinhopping iterations completed successfully']\n",
       "      minimization_failures: 0\n",
       "                       nfev: 999\n",
       "                        nit: 100\n",
       "                       njev: 333\n",
       "                          x: array([-1.49999998])"
      ]
     },
     "execution_count": 74,
     "metadata": {},
     "output_type": "execute_result"
    }
   ],
   "source": [
    "basinhopping(f,2,stepsize=0.1)"
   ]
  },
  {
   "cell_type": "code",
   "execution_count": 261,
   "metadata": {},
   "outputs": [
    {
     "name": "stdout",
     "output_type": "stream",
     "text": [
      "1000 loops, best of 3: 213 µs per loop\n"
     ]
    }
   ],
   "source": [
    "%timeit opt.minimize(f,100)"
   ]
  },
  {
   "cell_type": "code",
   "execution_count": 262,
   "metadata": {},
   "outputs": [
    {
     "name": "stdout",
     "output_type": "stream",
     "text": [
      "10 loops, best of 3: 18.6 ms per loop\n"
     ]
    }
   ],
   "source": [
    "%timeit basinhopping(f,100,stepsize=0.01)"
   ]
  },
  {
   "cell_type": "markdown",
   "metadata": {},
   "source": [
    "## 5.总结"
   ]
  },
  {
   "cell_type": "markdown",
   "metadata": {},
   "source": [
    "1. [这里](http://www.cnblogs.com/maybe2030/p/4751804.html)有关于几种算法的简要介绍。  \n",
    "2. 有关最小二乘法、梯度下降法的区别可以阅读[最小二乘法和梯度下降法有哪些区别](https://www.zhihu.com/question/20822481)和[线性回归、梯度下降、最小二乘的几何和概率解释](http://blog.csdn.net/luoshixian099/article/details/50880432)。  \n",
    "3. 速度上基本都差不多，opt.minimize速度最快，具体如下：  \n",
    "   *  Python:$\\quad$$\\quad$$\\quad$1000 loops, best of 3: 1.14 ms per loop  \n",
    "   *  Numpy:　　　 　100 loops, best of 3: 3.51 ms per loop  \n",
    "   *  opt.minimize:$\\quad$1000 loops, best of 3: 213  µs per loop  \n",
    "   *  bashihopping:$\\quad$10 loops, best of 3: 18.6 ms per loop  \n",
    "4. 梯度下降法是一种常用的最优化方法，也是体现了一种不断逼近最优值的路径。  \n",
    "5. 牛顿法和拟牛顿法[介绍](http://blog.csdn.net/itplus/article/details/21897443)。"
   ]
  },
  {
   "cell_type": "code",
   "execution_count": null,
   "metadata": {
    "collapsed": true
   },
   "outputs": [],
   "source": []
  }
 ],
 "metadata": {
  "kernelspec": {
   "display_name": "Python 3",
   "language": "python",
   "name": "python3"
  },
  "language_info": {
   "codemirror_mode": {
    "name": "ipython",
    "version": 3
   },
   "file_extension": ".py",
   "mimetype": "text/x-python",
   "name": "python",
   "nbconvert_exporter": "python",
   "pygments_lexer": "ipython3",
   "version": "3.7.4"
  },
  "latex_envs": {
   "LaTeX_envs_menu_present": true,
   "autoclose": false,
   "autocomplete": true,
   "bibliofile": "biblio.bib",
   "cite_by": "apalike",
   "current_citInitial": 1,
   "eqLabelWithNumbers": true,
   "eqNumInitial": 1,
   "hotkeys": {
    "equation": "Ctrl-E",
    "itemize": "Ctrl-I"
   },
   "labels_anchors": false,
   "latex_user_defs": false,
   "report_style_numbering": false,
   "user_envs_cfg": false
  },
  "toc": {
   "base_numbering": 1,
   "nav_menu": {
    "height": "0px",
    "width": "0px"
   },
   "number_sections": true,
   "sideBar": true,
   "skip_h1_title": false,
   "title_cell": "Table of Contents",
   "title_sidebar": "Contents",
   "toc_cell": false,
   "toc_position": {},
   "toc_section_display": "block",
   "toc_window_display": true
  }
 },
 "nbformat": 4,
 "nbformat_minor": 1
}
